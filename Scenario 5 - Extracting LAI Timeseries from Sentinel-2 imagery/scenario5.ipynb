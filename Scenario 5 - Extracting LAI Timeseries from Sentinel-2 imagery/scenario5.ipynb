{
 "cells": [
  {
   "cell_type": "markdown",
   "id": "33e6d599",
   "metadata": {},
   "source": [
    "# Scenario 5: Extracting LAI Timeseries from Sentinel-2 imagery\n",
    "This notebook is complementary material for the walkthrough scenario **Extracting LAI Timeseries from Sentinel-2 imagery** used the STELAR KLMS\n",
    "It is not intended to be run as a standalone notebook. It **requires access to a deployment of STELAR KLMS** and an **account** on the respective instance. \n",
    "\n",
    "Some of the instances used during the evaluation period of the STELAR Project are:\n",
    "\n",
    "Internal Pilot Instance: https://klms.stelar.gr\n",
    "\n",
    "Public Sandbox Instance: https://sandbox.stelar.gr\n",
    "\n",
    "\n",
    "*If you don't have an account on the STELAR KLMS, you can create one on the respective instance. \n",
    "Kindly note that the internal pilot instance is only accessible to STELAR project members, while the public sandbox instance is open to everyone by registration.*\n",
    "\n",
    "---\n",
    "# Overview\n",
    "\n",
    "This notebook is intended to run **TS-Extract** tool to extract the pixel-level Leaf Area Index (LAI) timeseries from Sentinel-2 imagery, after segmenting the crop fields in the Austrian North region.\n",
    "\n",
    "### Prerequisites\n",
    "\n",
    "- Fill in your accounts credentials in the block below. \n",
    "- Select datasets according to the walkthrough directions.\n",
    "- Ensure you have a modern python version installed (3.9 or later).\n",
    "- Install the STELAR Python SDK and any other required libraries (`pip install stelar_client --upgrade`)."
   ]
  },
  {
   "cell_type": "markdown",
   "id": "a7258141",
   "metadata": {},
   "source": [
    "### Instatiate a STELAR Client object\n",
    "**Modify credentials and base URL as needed.**"
   ]
  },
  {
   "cell_type": "code",
   "execution_count": null,
   "id": "5e923e3d",
   "metadata": {},
   "outputs": [],
   "source": [
    "from stelar.client import Client, Dataset, TaskSpec, Process\n",
    "from datetime import datetime\n",
    "\n",
    "# Base URL\n",
    "# Sandbox: https://sandbox.stelar.gr\n",
    "# Internal Pilots: https://klms.stelar.gr\n",
    "\n",
    "BASE_URL = \"https://sandbox.stelar.gr\"\n",
    "USERNAME = \"your_username\"  # Replace with your username\n",
    "PASSWORD = \"your_password\"  # Replace with your password\n",
    "\n",
    "c = Client(base_url=BASE_URL, username=USERNAME, password=PASSWORD)\n",
    "print(f\"Connected to STELAR KLMS @ {c._base_url} as {c._username}\")"
   ]
  },
  {
   "cell_type": "markdown",
   "id": "30939c48",
   "metadata": {},
   "source": [
    "### Select dataset containing the LAI single band images and a dataset containing the boundaries of the segmented fields."
   ]
  },
  {
   "cell_type": "code",
   "execution_count": null,
   "id": "c2e0087a",
   "metadata": {},
   "outputs": [],
   "source": [
    "lai_imagery_dataset = c.datasets[\"tile-33uvp-lai-tifs-for-2021\"]\n",
    "segmented_fields_dataset = c.datasets[\"tile-33uvp-reflectance-sentinel-2-imagery-2021\"]\n",
    "print(f\"Selected Dataset: {lai_imagery_dataset.id} | {lai_imagery_dataset.title}\")\n",
    "print(f\"Browse the dataset at: {c._base_url}/console/v1/catalog/{lai_imagery_dataset.id}\")"
   ]
  },
  {
   "cell_type": "markdown",
   "id": "9b69f7aa",
   "metadata": {},
   "source": [
    "### Create/Select a Workflow Process to run the segmentation task"
   ]
  },
  {
   "cell_type": "code",
   "execution_count": null,
   "id": "3d22ceb4",
   "metadata": {},
   "outputs": [],
   "source": [
    "ORGANIZATION = \"stelar-klms\"\n",
    "\n",
    "try:\n",
    "    proc = c.processes.create(**{\n",
    "        \"title\": \"Evalution Workflow for \" + c._username,\n",
    "        \"name\": \"evaluation-workflow-\" + c._username,\n",
    "        \"organization\": c.organizations[ORGANIZATION]\n",
    "    })\n",
    "    print(f\"Created new process for evaluation: {proc.id} | {proc.title}\")\n",
    "except Exception as e:\n",
    "    proc = c.processes[\"evaluation-workflow-\" + c._username]\n",
    "    print(f\"Using existing process for evaluation: {proc.id} | {proc.title}\")"
   ]
  },
  {
   "cell_type": "markdown",
   "id": "128bcd7a",
   "metadata": {},
   "source": [
    "### Create a dataset to store the results of the TS-extraction task"
   ]
  },
  {
   "cell_type": "code",
   "execution_count": null,
   "id": "88ca7b99",
   "metadata": {},
   "outputs": [],
   "source": [
    "ORGANIZATION = \"stelar-klms\"\n",
    "\n",
    "try:\n",
    "    res_dset = c.datasets.create(**{\n",
    "        \"title\": \"LAI Timeseries 33UVP for \" + c._username,\n",
    "        \"name\": \"lai-timeseries-\" + c._username,\n",
    "        \"organization\": c.organizations[ORGANIZATION],\n",
    "        \"notes\": \"LAI Timeseries of 33UVP curated by \" + c._username,\n",
    "    })\n",
    "    print(f\"Created new dataset for storing LAI timeseries: {res_dset.id} | {res_dset.title}\")\n",
    "except Exception as e:\n",
    "    res_dset = c.datasets[\"lai-timeseries-\" + c._username]\n",
    "    print(f\"Using existing dataset for storing LAI timeseries: {res_dset.id} | {res_dset.title}\")"
   ]
  },
  {
   "cell_type": "markdown",
   "id": "0dc061c7",
   "metadata": {},
   "source": [
    "### Prepare & Run the TS-Extract task"
   ]
  },
  {
   "cell_type": "code",
   "execution_count": null,
   "id": "038394e3",
   "metadata": {},
   "outputs": [],
   "source": [
    "# Start building the TaskSpec for Field Segmentation\n",
    "t = TaskSpec(tool=\"ts-extract\", name=\"Timeseries Extraction on 33UVP for \"+c._username)\n",
    "\n",
    "# Define the local dataset aliases\n",
    "t.d(alias='d0', dset=res_dset)\n",
    "\n",
    "# Define the inputs / LAI Imagery dataset (all images in the dataset)\n",
    "t.i(images=str(lai_imagery_dataset.id))\n",
    "\n",
    "# Set the outputs\n",
    "timestamp= datetime.now().strftime(\"%Y%m%d%H%M%S\")\n",
    "\n",
    "# Define the location for storing the pixel level LAI timeseries\n",
    "t.o(pixel_timeseries={\n",
    "    \"url\": f\"s3://klms-bucket/evaluation/experiments/proc-\" + str(proc.id) + f\"/timeseries_{timestamp}_\"+c._username+\".csv\",\n",
    "    \"resource\":{\n",
    "        \"name\": \"Pixel Level LAI Timeseries for \" + c._username,\n",
    "        \"description\": \"Pixel level timeseries extracted from segmented fields for 33UVP tile\",\n",
    "        \"format\": \"csv\",\n",
    "        \"relation\": \"pixel_timeseries\"\n",
    "    },\n",
    "    \"dataset\": \"d0\",\n",
    "})\n",
    "\n",
    "# Run the task using the workflow process created earlier\n",
    "fsegm_task = proc.run(t)\n",
    "print(f\"Task {fsegm_task.id} is running. Check the status at: {c._base_url}/console/v1/task/{str(proc.id)}/{str(fsegm_task.id)}\")"
   ]
  }
 ],
 "metadata": {
  "kernelspec": {
   "display_name": "Python 3",
   "language": "python",
   "name": "python3"
  },
  "language_info": {
   "codemirror_mode": {
    "name": "ipython",
    "version": 3
   },
   "file_extension": ".py",
   "mimetype": "text/x-python",
   "name": "python",
   "nbconvert_exporter": "python",
   "pygments_lexer": "ipython3",
   "version": "3.12.3"
  }
 },
 "nbformat": 4,
 "nbformat_minor": 5
}
