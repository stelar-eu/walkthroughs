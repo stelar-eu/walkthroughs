{
 "cells": [
  {
   "cell_type": "markdown",
   "id": "33e6d599",
   "metadata": {},
   "source": [
    "# Scenario 7: Extracting food entities out of food recall announcements\n",
    "This notebook is complementary material for the walkthrough scenario **\"Extracting food entities out of food recall announcements\"** used the STELAR KLMS\n",
    "It is not intended to be run as a standalone notebook. It **requires access to a deployment of STELAR KLMS** and an **account** on the respective instance. \n",
    "\n",
    "Some of the instances used during the evaluation period of the STELAR Project are:\n",
    "\n",
    "Internal Pilot Instance: https://klms.stelar.gr\n",
    "\n",
    "Public Sandbox Instance: https://sandbox.stelar.gr\n",
    "\n",
    "\n",
    "*If you don't have an account on the STELAR KLMS, you can create one on the respective instance. \n",
    "Kindly note that the internal pilot instance is only accessible to STELAR project members, while the public sandbox instance is open to everyone by registration.*\n",
    "\n",
    "---\n",
    "# Overview\n",
    "\n",
    "This notebook is intended to run the Generic NER in order to showcase the tool in a task where a user needs to identify foods mentioned in lengthy food recall announcements.\n",
    "\n",
    "### Prerequisites\n",
    "\n",
    "- Fill in your accounts credentials in the block below. \n",
    "- Select datasets according to the walkthrough directions.\n",
    "- Ensure you have a modern python version installed (3.9 or later).\n",
    "- Install the STELAR Python SDK and any other required libraries (`pip install stelar_client --upgrade`)."
   ]
  },
  {
   "cell_type": "markdown",
   "id": "a7258141",
   "metadata": {},
   "source": [
    "### Instatiate a STELAR Client object\n",
    "**Modify credentials and base URL as needed.**"
   ]
  },
  {
   "cell_type": "code",
   "execution_count": null,
   "id": "5e923e3d",
   "metadata": {},
   "outputs": [],
   "source": [
    "from stelar.client import Client, Dataset, TaskSpec, Process\n",
    "from datetime import datetime\n",
    "\n",
    "# Base URL\n",
    "# Sandbox: https://sandbox.stelar.gr\n",
    "# Internal Pilots: https://klms.stelar.gr\n",
    "\n",
    "BASE_URL = \"https://sandbox.stelar.gr\"\n",
    "USERNAME = \"your_username\"  # Replace with your username\n",
    "PASSWORD = \"your_password\"  # Replace with your password\n",
    "\n",
    "c = Client(base_url=BASE_URL, username=USERNAME, password=PASSWORD)\n",
    "print(f\"Connected to STELAR KLMS @ {c._base_url} as {c._username}\")"
   ]
  },
  {
   "cell_type": "markdown",
   "id": "30939c48",
   "metadata": {},
   "source": [
    "### Select the generic-ner-test-sample dataset"
   ]
  },
  {
   "cell_type": "code",
   "execution_count": null,
   "id": "c2e0087a",
   "metadata": {},
   "outputs": [],
   "source": [
    "ner_test_dataset = c.datasets[\"generic-ner-test-sample\"]\n",
    "print(f\"Selected Dataset: {ner_test_dataset.id} | {ner_test_dataset.title}\")\n",
    "print(f\"Browse the dataset at: {c._base_url}/console/v1/catalog/{ner_test_dataset.id}\")"
   ]
  },
  {
   "cell_type": "markdown",
   "id": "9b69f7aa",
   "metadata": {},
   "source": [
    "### Create/Select a Workflow Process to run the NER task"
   ]
  },
  {
   "cell_type": "code",
   "execution_count": null,
   "id": "3d22ceb4",
   "metadata": {},
   "outputs": [],
   "source": [
    "ORGANIZATION = \"stelar-klms\"\n",
    "\n",
    "try:\n",
    "    proc = c.processes.create(**{\n",
    "        \"title\": \"Evaluation Workflow for \" + c._username,\n",
    "        \"name\": \"evaluation-workflow-\" + c._username,\n",
    "        \"organization\": c.organizations[ORGANIZATION]\n",
    "    })\n",
    "    print(f\"Created new process for evaluation: {proc.id} | {proc.title}\")\n",
    "except Exception as e:\n",
    "    proc = c.processes[\"evaluation-workflow-\" + c._username]\n",
    "    print(f\"Using existing process for evaluation: {proc.id} | {proc.title}\")"
   ]
  },
  {
   "cell_type": "markdown",
   "id": "128bcd7a",
   "metadata": {},
   "source": [
    "### Create a dataset to store the results of the NER task"
   ]
  },
  {
   "cell_type": "code",
   "execution_count": null,
   "id": "88ca7b99",
   "metadata": {},
   "outputs": [],
   "source": [
    "ORGANIZATION = \"stelar-klms\"\n",
    "\n",
    "try:\n",
    "    res_dset = c.datasets.create(**{\n",
    "        \"title\": \"Annotated NER Test Dataset for \" + c._username,\n",
    "        \"name\": \"annotated-ner-test-dataset-\" + c._username,\n",
    "        \"organization\": c.organizations[ORGANIZATION],\n",
    "        \"notes\": \"Annotated NER Test Dataset for \" + c._username,\n",
    "    })\n",
    "    print(f\"Created new dataset for annotated NER test dataset: {res_dset.id} | {res_dset.title}\")\n",
    "except Exception as e:\n",
    "    res_dset = c.datasets[\"annotated-ner-test-dataset-\" + c._username]\n",
    "    print(f\"Using existing dataset for annotated NER test dataset: {res_dset.id} | {res_dset.title}\")"
   ]
  },
  {
   "cell_type": "markdown",
   "id": "0dc061c7",
   "metadata": {},
   "source": [
    "### Prepare the Generic NER task"
   ]
  },
  {
   "cell_type": "markdown",
   "id": "9eba1ea5",
   "metadata": {},
   "source": [
    "Instantiate a simple ontology to link the identified foods on!"
   ]
  },
  {
   "cell_type": "code",
   "execution_count": null,
   "id": "cd56b674",
   "metadata": {},
   "outputs": [],
   "source": [
    "food_entity_ontology = [\"meat\", \"fish\", \"dairy\", \"vegetable\", \"fruit\", \"grain\", \"herb\", \"spice\", \"other\"]"
   ]
  },
  {
   "cell_type": "code",
   "execution_count": null,
   "id": "038394e3",
   "metadata": {},
   "outputs": [],
   "source": [
    "# Start building the TaskSpec for Generic NER\n",
    "t = TaskSpec(tool=\"generic-ner\",image=\"0.0.6\", name=\"Generic NER for \"+c._username)\n",
    "\n",
    "# Define the local dataset aliases\n",
    "t.d(alias='d0', dset=res_dset)\n",
    "\n",
    "# Define the inputs\n",
    "t.i(context_files=str(ner_test_dataset.resources[0].id))\n",
    "\n",
    "# Set the parameters for Generic NER\n",
    "t.p(\n",
    "    translation_option=False,\n",
    "    translation_method=\"deep-translator\",\n",
    "    class_of_interest=\"food\",\n",
    "    summary_option=True,\n",
    "    summary_model=\"groq:llama-3.1-8b-instant\",\n",
    "    summary_base_url='null',\n",
    "    summary_model_instance='null',\n",
    "    main_entity_selection_option=False,\n",
    "    main_entity_selection_type=\"single\",\n",
    "    main_entity_model=\"groq:llama-3.1-8b-instant\",\n",
    "    main_entity_base_url='null',\n",
    "    main_entity_model_instance='null',\n",
    "    ner_method=\"llm\",\n",
    "    ner_model=\"groq:llama-3.1-8b-instant\",\n",
    "    ner_base_url='null',\n",
    "    ner_custom_prompt='null',\n",
    "    ner_model_instance='null',\n",
    "    entity_linking_method=\"chromadb_aug\",\n",
    "    entity_linking_model=\"groq:llama-3.1-8b-instant\",\n",
    "    entity_linking_base_url='null',\n",
    "    entity_linking_model_instance='null',\n",
    "    ontology=food_entity_ontology,\n",
    "    entity_linking_k=3,\n",
    "    entity_linking_augm=False,\n",
    "    entity_linking_model_augm='null',\n",
    "    evaluation_option=True,\n",
    "    gold_standard_index=\"golden_annotations\",\n",
    "    texts_index=\"text\",\n",
    "    output_columns={\n",
    "        \"annotations\": \"annotations\", \n",
    "        \"linked_annotations\": \"linked_annotations\"\n",
    "    }\n",
    ")\n",
    "\n",
    "# Set the outputs\n",
    "timestamp= datetime.now().strftime(\"%Y%m%d%H%M%S\")\n",
    "t.o(annotations_file = {\"url\": \"s3://klms-bucket/evaluation/experiments/proc-\" + str(proc.id) + f\"/annotation_{timestamp}_{c._username}.csv\",\n",
    "                       \"resource\":{\"name\": \"Annotations for NER Test Dataset\",\n",
    "                                   \"relation\": \"annotations\",\"format\": \"CSV\"},\n",
    "                        \"dataset\": \"d0\"})\n"
   ]
  },
  {
   "cell_type": "markdown",
   "id": "ec6eedc5",
   "metadata": {},
   "source": [
    "The default options for LLM provider in this notebook use GROQ API Platform.\n",
    "To use models from GROQ you can benefit from the free-tier by signing up in the platform and generating a new API key. \n",
    "Be aware that the free-tier has limitations in use, which should not affect the current showcase execution but might affect bigger ones. \n",
    "\n",
    "Issue your token here: https://console.groq.com/keys"
   ]
  },
  {
   "cell_type": "code",
   "execution_count": null,
   "id": "efa1201e",
   "metadata": {},
   "outputs": [],
   "source": [
    "# Set the API key for GROQ\n",
    "test_json = t.spec()\n",
    "test_json['secrets'] = {'api_key': 'gsk_api_key'}"
   ]
  },
  {
   "cell_type": "code",
   "execution_count": null,
   "id": "881f35e9",
   "metadata": {},
   "outputs": [],
   "source": [
    "test_json['process_id'] = str(proc.id)\n",
    " \n",
    "resp = c.POST(\"v2/task\", **test_json).json()['result']\n",
    "print(f\"Task {resp['id']} is running. Check the status at: {c._base_url}/console/v1/task/{str(proc.id)}/{str(resp['id'])}\")"
   ]
  }
 ],
 "metadata": {
  "kernelspec": {
   "display_name": "stelar",
   "language": "python",
   "name": "python3"
  },
  "language_info": {
   "codemirror_mode": {
    "name": "ipython",
    "version": 3
   },
   "file_extension": ".py",
   "mimetype": "text/x-python",
   "name": "python",
   "nbconvert_exporter": "python",
   "pygments_lexer": "ipython3",
   "version": "3.12.11"
  }
 },
 "nbformat": 4,
 "nbformat_minor": 5
}
