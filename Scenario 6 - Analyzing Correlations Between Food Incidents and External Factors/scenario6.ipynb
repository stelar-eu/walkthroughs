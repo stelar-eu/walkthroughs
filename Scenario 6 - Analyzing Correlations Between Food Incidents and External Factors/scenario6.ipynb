{
 "cells": [
  {
   "cell_type": "markdown",
   "id": "33e6d599",
   "metadata": {},
   "source": [
    "# Scenario 6: Analyzing Correlations Between Food Incidents and External Factors\n",
    "This notebook is complementary material for the walkthrough scenario **Analyzing Correlation Between Food Incidents and External Factors** used the STELAR KLMS\n",
    "It is not intended to be run as a standalone notebook. It **requires access to a deployment of STELAR KLMS** and an **account** on the respective instance. \n",
    "\n",
    "Some of the instances used during the evaluation period of the STELAR Project are:\n",
    "\n",
    "Internal Pilot Instance: https://klms.stelar.gr\n",
    "\n",
    "Public Sandbox Instance: https://sandbox.stelar.gr\n",
    "\n",
    "\n",
    "*If you don't have an account on the STELAR KLMS, you can create one on the respective instance. \n",
    "Kindly note that the internal pilot instance is only accessible to STELAR project members, while the public sandbox instance is open to everyone by registration.*\n",
    "\n",
    "---\n",
    "# Overview\n",
    "\n",
    "This notebook is intended to run **Correlation Detective** tool to discover correlation in a food incidents dataset provide by Agroknow.\n",
    "\n",
    "### Prerequisites\n",
    "\n",
    "- Fill in your accounts credentials in the block below. \n",
    "- Select datasets according to the walkthrough directions.\n",
    "- Ensure you have a modern python version installed (3.9 or later).\n",
    "- Install the STELAR Python SDK and any other required libraries (`pip install stelar_client --upgrade`)."
   ]
  },
  {
   "cell_type": "markdown",
   "id": "a7258141",
   "metadata": {},
   "source": [
    "### Instatiate a STELAR Client object\n",
    "**Modify credentials and base URL as needed.**"
   ]
  },
  {
   "cell_type": "code",
   "execution_count": null,
   "id": "5e923e3d",
   "metadata": {},
   "outputs": [],
   "source": [
    "from stelar.client import Client, Dataset, TaskSpec, Process\n",
    "from datetime import datetime\n",
    "\n",
    "# Base URL\n",
    "# Sandbox: https://sandbox.stelar.gr\n",
    "# Internal Pilots: https://klms.stelar.gr\n",
    "\n",
    "BASE_URL = \"https://sandbox.stelar.gr\"\n",
    "USERNAME = \"your_username\"  # Replace with your username\n",
    "PASSWORD = \"your_password\"  # Replace with your password\n",
    "\n",
    "c = Client(base_url=BASE_URL, username=USERNAME, password=PASSWORD)\n",
    "print(f\"Connected to STELAR KLMS @ {c._base_url} as {c._username}\")"
   ]
  },
  {
   "cell_type": "markdown",
   "id": "30939c48",
   "metadata": {},
   "source": [
    "### Select a food safety incidents dataset "
   ]
  },
  {
   "cell_type": "code",
   "execution_count": null,
   "id": "c2e0087a",
   "metadata": {},
   "outputs": [],
   "source": [
    "food_safety_dataset = c.datasets[\"food-safety-incidents-products-and-hazards\"]\n",
    "print(f\"Selected Dataset: {food_safety_dataset.id} | {food_safety_dataset.title}\")\n",
    "print(f\"Browse the dataset at: {c._base_url}/console/v1/catalog/{food_safety_dataset.id}\")"
   ]
  },
  {
   "cell_type": "markdown",
   "id": "9b69f7aa",
   "metadata": {},
   "source": [
    "### Create/Select a Workflow Process to run the segmentation task"
   ]
  },
  {
   "cell_type": "code",
   "execution_count": null,
   "id": "3d22ceb4",
   "metadata": {},
   "outputs": [],
   "source": [
    "ORGANIZATION = \"stelar-klms\"\n",
    "\n",
    "try:\n",
    "    proc = c.processes.create(**{\n",
    "        \"title\": \"Evalution Workflow for \" + c._username,\n",
    "        \"name\": \"evaluation-workflow-\" + c._username,\n",
    "        \"organization\": c.organizations[ORGANIZATION]\n",
    "    })\n",
    "    print(f\"Created new process for evaluation: {proc.id} | {proc.title}\")\n",
    "except Exception as e:\n",
    "    proc = c.processes[\"evaluation-workflow-\" + c._username]\n",
    "    print(f\"Using existing process for evaluation: {proc.id} | {proc.title}\")"
   ]
  },
  {
   "cell_type": "markdown",
   "id": "128bcd7a",
   "metadata": {},
   "source": [
    "### Create a dataset to store the results of the correlation detection task"
   ]
  },
  {
   "cell_type": "code",
   "execution_count": null,
   "id": "88ca7b99",
   "metadata": {},
   "outputs": [],
   "source": [
    "ORGANIZATION = \"stelar-klms\"\n",
    "\n",
    "try:\n",
    "    res_dset = c.datasets.create(**{\n",
    "        \"title\": \"Food Incident Correlations for \" + c._username,\n",
    "        \"name\": \"food-incident-correlations-\" + c._username,\n",
    "        \"organization\": c.organizations[ORGANIZATION],\n",
    "        \"notes\": \"Food incidents correlation curated by \" + c._username,\n",
    "    })\n",
    "    print(f\"Created new dataset for correlations: {res_dset.id} | {res_dset.title}\")\n",
    "except Exception as e:\n",
    "    res_dset = c.datasets[\"lai-timeseries-\" + c._username]\n",
    "    print(f\"Using existing dataset for correlations: {res_dset.id} | {res_dset.title}\")"
   ]
  },
  {
   "cell_type": "markdown",
   "id": "0dc061c7",
   "metadata": {},
   "source": [
    "### Prepare & Run the Correlation Detective task"
   ]
  },
  {
   "cell_type": "code",
   "execution_count": null,
   "id": "038394e3",
   "metadata": {},
   "outputs": [],
   "source": [
    "# Start by building on a new task spec for running correlation detective\n",
    "t = TaskSpec(tool='correlation-detective', name='Food incidents correlation detection')\n",
    "\n",
    "# Define the input, in this case the food safety dataset\n",
    "\n",
    "# Choose\n",
    "#   - food_safety_dataset.resources[0] if you want to use the resource for weekly incidents \n",
    "#   - food_safety_dataset.resources[1] if you want to use the resource for monthly incidents\n",
    "#\n",
    "t.i(data_file=food_safety_dataset.resources[1].id)\n",
    "\n",
    "# Set a local alias for the dataset to which the results are going to be stored. \n",
    "t.d(alias=\"d0\", dset=res_dset.id)\n",
    "\n",
    "\n",
    "# Set the parameters of the Correlation Algorithm to use and configure.\n",
    "t.p(simMetricName=\"multipole\", \n",
    "    maxPLeft= 3,\n",
    "    maxPRight= 0,\n",
    "    queryType= \"TOPK\",\n",
    "    nVectors= 100)\n",
    "\n",
    "# Create a timestamp to be able to identify the files and not overwrite them in subsequent executions\n",
    "timestamp= datetime.now().strftime(\"%Y%m%d%H%M%S\")\n",
    "\n",
    "# Set the destination path for the result files. \n",
    "t.o(correlations_file={\n",
    "    \"url\": \"s3://klms-bucket/evaluation/experiments/proc-\" + str(proc.id) + f\"/correlations_{timestamp}_{c._username}.json\",\n",
    "    \"resource\":{\n",
    "        \"name\": \"Correlations for monthly food incidents\",\n",
    "        \"relation\": \"correlations\",\n",
    "        \"format\": \"CSV\"\n",
    "    },\n",
    "    \"dataset\": \"d0\"\n",
    "})\n",
    "\n",
    "\n",
    "# Run the task in the selected workflow process\n",
    "cd_task = proc.run(t)\n",
    "print(f\"Task {cd_task.id} is running. Check the status at: {c._base_url}/console/v1/task/{str(proc.id)}/{str(cd_task.id)}\")"
   ]
  }
 ],
 "metadata": {
  "kernelspec": {
   "display_name": "stelar",
   "language": "python",
   "name": "python3"
  },
  "language_info": {
   "codemirror_mode": {
    "name": "ipython",
    "version": 3
   },
   "file_extension": ".py",
   "mimetype": "text/x-python",
   "name": "python",
   "nbconvert_exporter": "python",
   "pygments_lexer": "ipython3",
   "version": "3.12.11"
  }
 },
 "nbformat": 4,
 "nbformat_minor": 5
}
