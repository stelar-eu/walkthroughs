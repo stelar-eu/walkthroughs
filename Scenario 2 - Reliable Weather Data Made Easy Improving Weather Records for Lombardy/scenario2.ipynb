{
 "cells": [
  {
   "cell_type": "markdown",
   "id": "33e6d599",
   "metadata": {},
   "source": [
    "# Scenario 2: Reliable Weather Data Made Easy: Improving Weather Records for Lombardy\n",
    "This notebook is complementary material for the walkthrough scenario **\"Reliable Weather Data Made Easy: Improving Weather Records for Lombardy\"** used the STELAR KLMS\n",
    "It is not intended to be run as a standalone notebook. It **requires access to a deployment of STELAR KLMS** and an **account** on the respective instance. \n",
    "\n",
    "Some of the instances used during the evaluation period of the STELAR Project are:\n",
    "\n",
    "Internal Pilot Instance: https://klms.stelar.gr\n",
    "\n",
    "Public Sandbox Instance: https://sandbox.stelar.gr\n",
    "\n",
    "\n",
    "*If you don't have an account on the STELAR KLMS, you can create one on the respective instance. \n",
    "Kindly note that the internal pilot instance is only accessible to STELAR project members, while the public sandbox instance is open to everyone by registration.*\n",
    "\n",
    "---\n",
    "# Overview\n",
    "\n",
    "This notebook is intended to run the Missing Data Interpolation & TS Imputation in order to showcase the tools in a task where missing weather data are interpolated and imputed \n",
    "to produce a complete dataset.\n",
    "\n",
    "### Prerequisites\n",
    "\n",
    "- Fill in your accounts credentials in the block below. \n",
    "- Select datasets according to the walkthrough directions.\n",
    "- Ensure you have a modern python version installed (3.9 or later).\n",
    "- Install the STELAR Python SDK and any other required libraries (`pip install stelar_client --upgrade`)."
   ]
  },
  {
   "cell_type": "markdown",
   "id": "a7258141",
   "metadata": {},
   "source": [
    "### Instatiate a STELAR Client object\n",
    "**Modify credentials and base URL as needed.**"
   ]
  },
  {
   "cell_type": "code",
   "execution_count": null,
   "id": "5e923e3d",
   "metadata": {},
   "outputs": [],
   "source": [
    "from stelar.client import Client, Dataset, TaskSpec, Process\n",
    "from datetime import datetime\n",
    "\n",
    "# Base URL\n",
    "# Sandbox: https://sandbox.stelar.gr\n",
    "# Internal Pilots: https://klms.stelar.gr\n",
    "\n",
    "BASE_URL = \"https://sandbox.stelar.gr\"\n",
    "USERNAME = \"your_username\"  # Replace with your username\n",
    "PASSWORD = \"your_password\"  # Replace with your password\n",
    "\n",
    "c = Client(base_url=BASE_URL, username=USERNAME, password=PASSWORD)\n",
    "print(f\"Connected to STELAR KLMS @ {c._base_url} as {c._username}\")"
   ]
  },
  {
   "cell_type": "markdown",
   "id": "30939c48",
   "metadata": {},
   "source": [
    "### Select with missing weather data and weather stations coordinates"
   ]
  },
  {
   "cell_type": "code",
   "execution_count": null,
   "id": "c2e0087a",
   "metadata": {},
   "outputs": [],
   "source": [
    "weather_stations_dataset = c.datasets[\"lombardy-weather-data\"]\n",
    "print(f\"Selected Dataset: {weather_stations_dataset.id} | {weather_stations_dataset.title}\")\n",
    "print(f\"Browse the dataset at: {c._base_url}/console/v1/catalog/{weather_stations_dataset.id}\")"
   ]
  },
  {
   "cell_type": "markdown",
   "id": "9b69f7aa",
   "metadata": {},
   "source": [
    "### Create/Select a Workflow Process to run the forecasting task"
   ]
  },
  {
   "cell_type": "code",
   "execution_count": null,
   "id": "3d22ceb4",
   "metadata": {},
   "outputs": [],
   "source": [
    "ORGANIZATION = \"stelar-klms\"\n",
    "\n",
    "try:\n",
    "    c.processes.create(**{\n",
    "        \"title\": \"Evalution Workflow for \" + c._username,\n",
    "        \"name\": \"evaluation-workflow-\" + c._username,\n",
    "        \"organization\": c.organizations[ORGANIZATION]\n",
    "    })\n",
    "    print(f\"Created new process for evaluation: {c.processes[-1].id} | {c.processes[-1].title}\")\n",
    "except Exception as e:\n",
    "    proc = c.processes[\"evaluation-workflow-\" + c._username]\n",
    "    print(f\"Using existing process for evaluation: {proc.id} | {proc.title}\")"
   ]
  },
  {
   "cell_type": "markdown",
   "id": "128bcd7a",
   "metadata": {},
   "source": [
    "### Create a dataset to store the results of the forecasting task"
   ]
  },
  {
   "cell_type": "code",
   "execution_count": null,
   "id": "88ca7b99",
   "metadata": {},
   "outputs": [],
   "source": [
    "ORGANIZATION = \"stelar-klms\"\n",
    "\n",
    "try:\n",
    "    res_dset = c.datasets.create(**{\n",
    "        \"title\": \"Complete Weather Data for \" + c._username,\n",
    "        \"name\": \"complete-weather-data-\" + c._username,\n",
    "        \"organization\": c.organizations[ORGANIZATION],\n",
    "        \"notes\": \"Complete weather data for Lombardy curated by \" + c._username,\n",
    "    })\n",
    "    print(f\"Created new dataset for weather data: {c.datasets[-1].id} | {c.datasets[-1].title}\")\n",
    "except Exception as e:\n",
    "    res_dset = c.datasets[\"complete-weather-data-\" + c._username]\n",
    "    print(f\"Using existing dataset for weather data: {res_dset.id} | {res_dset.title}\")"
   ]
  },
  {
   "cell_type": "markdown",
   "id": "0dc061c7",
   "metadata": {},
   "source": [
    "### Prepare the Missing Data Interpolation task"
   ]
  },
  {
   "cell_type": "code",
   "execution_count": null,
   "id": "038394e3",
   "metadata": {},
   "outputs": [],
   "source": [
    "# Start building the TaskSpec for Missing Data Interpolation\n",
    "t = TaskSpec(tool=\"missing-data-interpolation\", name=\"MDI Weather Data for \"+c._username)\n",
    "\n",
    "# Define the local dataset aliases\n",
    "t.d(alias='d0', dset=res_dset)\n",
    "\n",
    "# Define the inputs\n",
    "t.i(meteo_file=str(weather_stations_dataset.resources[0].id),\n",
    "           coords_file=str(weather_stations_dataset.resources[1].id))\n",
    "\n",
    "# Set the outputs\n",
    "timestamp= datetime.now().strftime(\"%Y%m%d%H%M%S\")\n",
    "t.o(interpolated_file={\n",
    "    \"url\": f\"s3://klms-bucket/experiments/evaluation/proc-\" + str(proc.id) + f\"/interpolated_meteo_{timestamp}_\"+c._username+\".xlsx\",\n",
    "    \"dataset\": \"d0\",\n",
    "    \"resource\": {\"name\": \"Interpolated Meteo Station Data\", \"relation\": \"interpolated\"}\n",
    "})\n",
    "\n",
    "# Run the task using the workflow process created earlier\n",
    "predictions_task = proc.run(t)\n",
    "print(f\"Task {predictions_task.id} is running. Check the status at: {c._base_url}/console/v1/task/{str(proc.id)}/{str(predictions_task.id)}\")"
   ]
  },
  {
   "cell_type": "markdown",
   "id": "8ddc0ded",
   "metadata": {},
   "source": [
    "### Prepare & Run the TS Imputation task\n"
   ]
  },
  {
   "cell_type": "code",
   "execution_count": null,
   "id": "a7be7dec",
   "metadata": {},
   "outputs": [],
   "source": [
    "# Start building the TaskSpec for TS Imputation\n",
    "t_imp = TaskSpec(tool=\"ts-imputation\", name=\"TS Imputation for \"+c._username)\n",
    "\n",
    "t_imp.d(alias='d0', dset=res_dset)\n",
    "\n",
    "# Define the inputs for TS Imputation \n",
    "t_imp.i(\n",
    "    missing=str(weather_stations_dataset.resources[0].id)\n",
    ")\n",
    "\n",
    "# Set the parameters\n",
    "t_imp.p(\n",
    "    time_column=\"DATE\",\n",
    "    sep=\",\",\n",
    "    header=0,\n",
    "    hyperparameter_tuning=False,\n",
    "    n_trials=30,\n",
    "    is_multivariate=False,\n",
    "    imp_method=\"dynammo\",\n",
    "    default=True,\n",
    "    params={}\n",
    ")\n",
    "\n",
    "# Set the output\n",
    "t_imp.o(imputed_timeseries={\n",
    "    \"url\": \"s3://klms-bucket/experiments/evaluation/proc-\" + str(proc.id) + f\"/imputed_meteo_{timestamp}_\"+c._username+\".xlsx\",\n",
    "    \"dataset\": \"d0\",\n",
    "    \"resource\": {\n",
    "        \"name\": \"Imputed Meteo Station Data \"+ c._username,\n",
    "        \"format\": \"xlsx\",\n",
    "        \"relation\": \"imputed\"\n",
    "    }\n",
    "})\n",
    "\n",
    "\n",
    "# Run the task using the workflow process created earlier\n",
    "imputation_task = proc.run(t_imp)\n",
    "print(f\"Task {imputation_task.id} is running. Check the status at: {c._base_url}/console/v1/task/{str(proc.id)}/{str(imputation_task.id)}\")"
   ]
  }
 ],
 "metadata": {
  "kernelspec": {
   "display_name": "Python 3",
   "language": "python",
   "name": "python3"
  },
  "language_info": {
   "codemirror_mode": {
    "name": "ipython",
    "version": 3
   },
   "file_extension": ".py",
   "mimetype": "text/x-python",
   "name": "python",
   "nbconvert_exporter": "python",
   "pygments_lexer": "ipython3",
   "version": "3.12.3"
  }
 },
 "nbformat": 4,
 "nbformat_minor": 5
}
