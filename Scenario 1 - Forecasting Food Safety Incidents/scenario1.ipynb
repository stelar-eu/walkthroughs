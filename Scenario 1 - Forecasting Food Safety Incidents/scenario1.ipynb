{
 "cells": [
  {
   "cell_type": "markdown",
   "id": "33e6d599",
   "metadata": {},
   "source": [
    "# Scenario 1: Forecasting Food Safety Incidents\n",
    "This notebook is complementary material for the walkthrough scenario \"Forecasting Food Safety Incidents\" used the STELAR KLMS\n",
    "It is not intended to be run as a standalone notebook. It **requires access to a deployment of STELAR KLMS** and an **account** on the respective instance. \n",
    "\n",
    "Some of the instances used during the evaluation period of the STELAR Project are:\n",
    "\n",
    "Internal Pilot Instance: https://klms.stelar.gr\n",
    "\n",
    "Public Sandbox Instance: https://sandbox.stelar.gr\n",
    "\n",
    "\n",
    "*If you don't have an account on the STELAR KLMS, you can create one on the respective instance. \n",
    "Kindly note that the internal pilot instance is only accessible to STELAR project members, while the public sandbox instance is open to everyone by registration.*\n",
    "\n",
    "---\n",
    "# Overview\n",
    "\n",
    "This notebook is intended to run the Forecasting Models Orchestrator (FOMO) in order to produce forecasts for food safety incidents.\n",
    "\n",
    "### Prerequisites\n",
    "\n",
    "- Fill in your accounts credentials in the block below. \n",
    "- Select datasets according to the walkthrough directions.\n",
    "- Ensure you have a modern python version installed (3.9 or later).\n",
    "- Install the STELAR Python SDK and any other required libraries (`pip install stelar_client --upgrade`)."
   ]
  },
  {
   "cell_type": "markdown",
   "id": "a7258141",
   "metadata": {},
   "source": [
    "### Instatiate a STELAR Client object\n",
    "**Modify credentials and base URL as needed.**"
   ]
  },
  {
   "cell_type": "code",
   "execution_count": null,
   "id": "5e923e3d",
   "metadata": {},
   "outputs": [],
   "source": [
    "from stelar.client import Client, Dataset, TaskSpec, Process\n",
    "from datetime import datetime\n",
    "\n",
    "# Base URL\n",
    "# Sandbox: https://sandbox.stelar.gr\n",
    "# Internal Pilots: https://klms.stelar.gr\n",
    "\n",
    "BASE_URL = \"https://klms.stelar.gr\"\n",
    "USERNAME = \"your_username\"  # Replace with your username\n",
    "PASSWORD = \"your_password\"  # Replace with your password\n",
    "\n",
    "c = Client(base_url=BASE_URL, username=USERNAME, password=PASSWORD)\n",
    "print(f\"Connected to STELAR KLMS @ {c._base_url} as {c._username}\")"
   ]
  },
  {
   "cell_type": "markdown",
   "id": "30939c48",
   "metadata": {},
   "source": [
    "### Select a food safety incidents dataset "
   ]
  },
  {
   "cell_type": "code",
   "execution_count": null,
   "id": "c2e0087a",
   "metadata": {},
   "outputs": [],
   "source": [
    "food_safety_dataset = c.datasets[\"food-safety-incidents-products-and-hazards\"]\n",
    "print(f\"Selected Dataset: {food_safety_dataset.id} | {food_safety_dataset.title}\")\n",
    "print(f\"Browse the dataset at: {c._base_url}/console/v1/catalog/{food_safety_dataset.id}\")"
   ]
  },
  {
   "cell_type": "markdown",
   "id": "9b69f7aa",
   "metadata": {},
   "source": [
    "### Create/Select a Workflow Process to run the forecasting task"
   ]
  },
  {
   "cell_type": "code",
   "execution_count": null,
   "id": "3d22ceb4",
   "metadata": {},
   "outputs": [],
   "source": [
    "ORGANIZATION = \"stelar-klms\"\n",
    "\n",
    "try:\n",
    "    c.processes.create(**{\n",
    "        \"title\": \"Evalution Workflow for \" + c._username,\n",
    "        \"name\": \"evaluation-workflow-\" + c._username,\n",
    "        \"organization\": c.organizations[ORGANIZATION]\n",
    "    })\n",
    "    print(f\"Created new process for evaluation: {c.processes[-1].id} | {c.processes[-1].title}\")\n",
    "except Exception as e:\n",
    "    proc = c.processes[\"evaluation-workflow-\" + c._username]\n",
    "    print(f\"Using existing process for evaluation: {proc.id} | {proc.title}\")"
   ]
  },
  {
   "cell_type": "markdown",
   "id": "0dc061c7",
   "metadata": {},
   "source": [
    "### Prepare the forecasting task"
   ]
  },
  {
   "cell_type": "code",
   "execution_count": null,
   "id": "038394e3",
   "metadata": {},
   "outputs": [],
   "source": [
    "t = TaskSpec(tool=\"fomo\", name=\"Food Incidents Forecasting for \"+c._username)\n",
    "\n",
    "\n",
    "# Create local dataset aliases for the task \n",
    "t.d(alias=\"d0\", dset=food_safety_dataset.id)\n",
    "\n",
    "# Define the input, in this case the food safety dataset\n",
    "\n",
    "# Choose\n",
    "#   - food_safety_dataset.resources[0] if you want to use the resource for weekly incidents \n",
    "#   - food_safety_dataset.resources[1] if you want to use the resource for monthly incidents\n",
    "#\n",
    "t.i(stream=food_safety_dataset.resources[1])\n",
    "# Define the output path, where the predictions will be stored\n",
    "\n",
    "# Create a timestamp for the output files so they are distinguishable and not overwrite each other\n",
    "\n",
    "timestamp = datetime.now().strftime(\"%Y%m%d_%H%M%S\")\n",
    "\n",
    "t.o(predictions={\n",
    "        \"url\": \"s3://klms-bucket/evaluation/experiments/proc-\" + str(proc.id) + \"/predictions_\"+c._username+\"_\"+timestamp+\".csv\",\n",
    "        \"dataset\": \"d0\",\n",
    "        \"resource\": {\n",
    "            \"name\": \"Food Safety Incidents Predictions for \" + c._username,\n",
    "            \"format\": \"csv\",\n",
    "            \"relation\": \"predictions\",\n",
    "        }\n",
    "    },\n",
    "    log={\n",
    "        \"url\": \"s3://klms-bucket/evaluation/experiments/proc-\" + str(proc.id) + \"/log_\"+c._username+\"_\"+timestamp+\".txt\",\n",
    "        \"dataset\": \"d0\",\n",
    "        \"resource\": {\n",
    "            \"name\": \"Food Safety Incidents Predictions Log for \" + c._username,\n",
    "            \"format\": \"txt\",\n",
    "            \"relation\": \"log\",\n",
    "        }\n",
    "    })\n",
    "\n",
    "\n",
    "# Run the task using the workflow process created earlier\n",
    "predictions_task = proc.run(t)\n",
    "print(f\"Task {predictions_task.id} is running. Check the status at: {c._base_url}/console/v1/task/{str(proc.id)}/{str(predictions_task.id)}\")"
   ]
  }
 ],
 "metadata": {
  "kernelspec": {
   "display_name": "Python 3",
   "language": "python",
   "name": "python3"
  },
  "language_info": {
   "codemirror_mode": {
    "name": "ipython",
    "version": 3
   },
   "file_extension": ".py",
   "mimetype": "text/x-python",
   "name": "python",
   "nbconvert_exporter": "python",
   "pygments_lexer": "ipython3",
   "version": "3.12.3"
  }
 },
 "nbformat": 4,
 "nbformat_minor": 5
}
