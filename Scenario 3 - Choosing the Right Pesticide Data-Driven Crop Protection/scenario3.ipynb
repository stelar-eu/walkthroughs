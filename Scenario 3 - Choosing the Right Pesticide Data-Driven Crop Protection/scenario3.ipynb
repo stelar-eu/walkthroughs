{
 "cells": [
  {
   "cell_type": "markdown",
   "id": "33e6d599",
   "metadata": {},
   "source": [
    "# Scenario 3: Choosing the Right Pesticide Data-Driven Crop Protection\n",
    "This notebook is complementary material for the walkthrough scenario **\"Choosing the Right Pesticide Data-Driven Crop Protection\"** used the STELAR KLMS\n",
    "It is not intended to be run as a standalone notebook. It **requires access to a deployment of STELAR KLMS** and an **account** on the respective instance. \n",
    "\n",
    "Some of the instances used during the evaluation period of the STELAR Project are:\n",
    "\n",
    "Internal Pilot Instance: https://klms.stelar.gr\n",
    "\n",
    "Public Sandbox Instance: https://sandbox.stelar.gr\n",
    "\n",
    "\n",
    "*If you don't have an account on the STELAR KLMS, you can create one on the respective instance. \n",
    "Kindly note that the internal pilot instance is only accessible to STELAR project members, while the public sandbox instance is open to everyone by registration.*\n",
    "\n",
    "---\n",
    "# Overview\n",
    "\n",
    "This notebook is intended to run the Agri Products Match which is used to match agricultural products with the user's pesticide data. The results will help users make informed decisions about pesticide use based on the specific crops they are growing.\n",
    "\n",
    "### Prerequisites\n",
    "\n",
    "- Fill in your accounts credentials in the block below. \n",
    "- Select datasets according to the walkthrough directions.\n",
    "- Ensure you have a modern python version installed (3.9 or later).\n",
    "- Install the STELAR Python SDK and any other required libraries (`pip install stelar_client --upgrade`)."
   ]
  },
  {
   "cell_type": "markdown",
   "id": "a7258141",
   "metadata": {},
   "source": [
    "### Instatiate a STELAR Client object\n",
    "**Modify credentials and base URL as needed.**"
   ]
  },
  {
   "cell_type": "code",
   "execution_count": null,
   "id": "5e923e3d",
   "metadata": {},
   "outputs": [],
   "source": [
    "from stelar.client import Client, Dataset, TaskSpec, Process\n",
    "from datetime import datetime\n",
    "\n",
    "# Base URL\n",
    "# Sandbox: https://sandbox.stelar.gr\n",
    "# Internal Pilots: https://klms.stelar.gr\n",
    "\n",
    "BASE_URL = \"https://sandbox.stelar.gr\"\n",
    "USERNAME = \"your_username\"  # Replace with your username\n",
    "PASSWORD = \"your_password\"  # Replace with your password\n",
    "\n",
    "c = Client(base_url=BASE_URL, username=USERNAME, password=PASSWORD)\n",
    "print(f\"Connected to STELAR KLMS @ {c._base_url} as {c._username}\")"
   ]
  },
  {
   "cell_type": "markdown",
   "id": "30939c48",
   "metadata": {},
   "source": [
    "### Select with missing weather data and weather stations coordinates"
   ]
  },
  {
   "cell_type": "code",
   "execution_count": null,
   "id": "c2e0087a",
   "metadata": {},
   "outputs": [],
   "source": [
    "weather_stations_dataset = c.datasets[\"lombardy-weather-data\"]\n",
    "print(f\"Selected Dataset: {weather_stations_dataset.id} | {weather_stations_dataset.title}\")\n",
    "print(f\"Browse the dataset at: {c._base_url}/console/v1/catalog/{weather_stations_dataset.id}\")"
   ]
  },
  {
   "cell_type": "markdown",
   "id": "9b69f7aa",
   "metadata": {},
   "source": [
    "### Create/Select a Workflow Process to run the forecasting task"
   ]
  },
  {
   "cell_type": "code",
   "execution_count": null,
   "id": "3d22ceb4",
   "metadata": {},
   "outputs": [],
   "source": [
    "ORGANIZATION = \"stelar-klms\"\n",
    "\n",
    "try:\n",
    "    c.processes.create(**{\n",
    "        \"title\": \"Evalution Workflow for \" + c._username,\n",
    "        \"name\": \"evaluation-workflow-\" + c._username,\n",
    "        \"organization\": c.organizations[ORGANIZATION]\n",
    "    })\n",
    "    print(f\"Created new process for evaluation: {c.processes[-1].id} | {c.processes[-1].title}\")\n",
    "except Exception as e:\n",
    "    proc = c.processes[\"evaluation-workflow-\" + c._username]\n",
    "    print(f\"Using existing process for evaluation: {proc.id} | {proc.title}\")"
   ]
  },
  {
   "cell_type": "markdown",
   "id": "128bcd7a",
   "metadata": {},
   "source": [
    "### Create a dataset to store the results of the forecasting task"
   ]
  },
  {
   "cell_type": "code",
   "execution_count": null,
   "id": "88ca7b99",
   "metadata": {},
   "outputs": [],
   "source": [
    "ORGANIZATION = \"stelar-klms\"\n",
    "\n",
    "try:\n",
    "    res_dset = c.datasets.create(**{\n",
    "        \"title\": \"Pesticides Matches for \" + c._username,\n",
    "        \"name\": \"pesticides-matches-\" + c._username,\n",
    "        \"organization\": c.organizations[ORGANIZATION],\n",
    "        \"notes\": \"Pesticides Matches curated by \" + c._username,\n",
    "    })\n",
    "    print(f\"Created new dataset for matching pesticide prodcuts {c.datasets[-1].id} | {c.datasets[-1].title}\")\n",
    "except Exception as e:\n",
    "    res_dset = c.datasets[\"pesticides-matches-\" + c._username]\n",
    "    print(f\"Using existing dataset for matching pesticides: {res_dset.id} | {res_dset.title}\")"
   ]
  },
  {
   "cell_type": "markdown",
   "id": "0dc061c7",
   "metadata": {},
   "source": [
    "### Prepare the Missing Data Interpolation task"
   ]
  },
  {
   "cell_type": "code",
   "execution_count": null,
   "id": "038394e3",
   "metadata": {},
   "outputs": [],
   "source": [
    "# Start building the TaskSpec for Missing Data Interpolation\n",
    "t = TaskSpec(tool=\"agri-products-match\", name=\"MDI Weather Data for \"+c._username)\n",
    "\n",
    "# Define the local dataset aliases\n",
    "t.d(alias='d0', dset=res_dset)\n",
    "\n",
    "# Define the inputs\n",
    "t.i(meteo_file=str(weather_stations_dataset.resources[0].id),\n",
    "           coords_file=str(weather_stations_dataset.resources[1].id))\n",
    "\n",
    "# Set the outputs\n",
    "timestamp= datetime.now().strftime(\"%Y%m%d%H%M%S\")\n",
    "t.o(interpolated_file={\n",
    "    \"url\": f\"s3://klms-bucket/experiments/evaluation/proc-\" + str(proc.id) + f\"/interpolated_meteo_{timestamp}_\"+c._username+\".xlsx\",\n",
    "    \"dataset\": \"d0\",\n",
    "    \"resource\": {\"name\": \"Interpolated Meteo Station Data\", \"relation\": \"interpolated\"}\n",
    "})\n",
    "\n",
    "# Run the task using the workflow process created earlier\n",
    "predictions_task = proc.run(t)\n",
    "print(f\"Task {predictions_task.id} is running. Check the status at: {c._base_url}/console/v1/task/{str(proc.id)}/{str(predictions_task.id)}\")"
   ]
  }
 ],
 "metadata": {
  "kernelspec": {
   "display_name": "Python 3",
   "language": "python",
   "name": "python3"
  },
  "language_info": {
   "codemirror_mode": {
    "name": "ipython",
    "version": 3
   },
   "file_extension": ".py",
   "mimetype": "text/x-python",
   "name": "python",
   "nbconvert_exporter": "python",
   "pygments_lexer": "ipython3",
   "version": "3.12.3"
  }
 },
 "nbformat": 4,
 "nbformat_minor": 5
}
